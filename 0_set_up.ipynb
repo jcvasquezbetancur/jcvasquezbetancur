{
  "nbformat": 4,
  "nbformat_minor": 0,
  "metadata": {
    "colab": {
      "name": "0-set-up.ipynb",
      "provenance": [],
      "authorship_tag": "ABX9TyNu2wx9Eb+aqkthX2q82fwJ",
      "include_colab_link": true
    },
    "kernelspec": {
      "name": "python3",
      "display_name": "Python 3"
    },
    "language_info": {
      "name": "python"
    }
  },
  "cells": [
    {
      "cell_type": "markdown",
      "metadata": {
        "id": "view-in-github",
        "colab_type": "text"
      },
      "source": [
        "<a href=\"https://colab.research.google.com/github/jcvasquezbetancur/jcvasquezbetancur/blob/main/0_set_up.ipynb\" target=\"_parent\"><img src=\"https://colab.research.google.com/assets/colab-badge.svg\" alt=\"Open In Colab\"/></a>"
      ]
    },
    {
      "cell_type": "code",
      "metadata": {
        "id": "zgj19edm0wya",
        "colab": {
          "base_uri": "https://localhost:8080/"
        },
        "outputId": "92097466-994a-45f9-b225-ad65d87e5ad5"
      },
      "source": [
        "!pip install cookiecutter"
      ],
      "execution_count": 1,
      "outputs": [
        {
          "output_type": "stream",
          "text": [
            "Collecting cookiecutter\n",
            "  Downloading https://files.pythonhosted.org/packages/a2/62/d061b19f307455506e63825586e2e1816b71d56b4a5873c278cb315b9660/cookiecutter-1.7.3-py2.py3-none-any.whl\n",
            "Requirement already satisfied: Jinja2<4.0.0,>=2.7 in /usr/local/lib/python3.7/dist-packages (from cookiecutter) (2.11.3)\n",
            "Requirement already satisfied: python-slugify>=4.0.0 in /usr/local/lib/python3.7/dist-packages (from cookiecutter) (5.0.2)\n",
            "Collecting poyo>=0.5.0\n",
            "  Downloading https://files.pythonhosted.org/packages/42/50/0b0820601bde2eda403f47b9a4a1f270098ed0dd4c00c443d883164bdccc/poyo-0.5.0-py2.py3-none-any.whl\n",
            "Collecting binaryornot>=0.4.4\n",
            "  Downloading https://files.pythonhosted.org/packages/24/7e/f7b6f453e6481d1e233540262ccbfcf89adcd43606f44a028d7f5fae5eb2/binaryornot-0.4.4-py2.py3-none-any.whl\n",
            "Collecting jinja2-time>=0.2.0\n",
            "  Downloading https://files.pythonhosted.org/packages/6a/a1/d44fa38306ffa34a7e1af09632b158e13ec89670ce491f8a15af3ebcb4e4/jinja2_time-0.2.0-py2.py3-none-any.whl\n",
            "Requirement already satisfied: click>=7.0 in /usr/local/lib/python3.7/dist-packages (from cookiecutter) (7.1.2)\n",
            "Requirement already satisfied: six>=1.10 in /usr/local/lib/python3.7/dist-packages (from cookiecutter) (1.15.0)\n",
            "Requirement already satisfied: requests>=2.23.0 in /usr/local/lib/python3.7/dist-packages (from cookiecutter) (2.23.0)\n",
            "Requirement already satisfied: MarkupSafe>=0.23 in /usr/local/lib/python3.7/dist-packages (from Jinja2<4.0.0,>=2.7->cookiecutter) (2.0.1)\n",
            "Requirement already satisfied: text-unidecode>=1.3 in /usr/local/lib/python3.7/dist-packages (from python-slugify>=4.0.0->cookiecutter) (1.3)\n",
            "Requirement already satisfied: chardet>=3.0.2 in /usr/local/lib/python3.7/dist-packages (from binaryornot>=0.4.4->cookiecutter) (3.0.4)\n",
            "Collecting arrow\n",
            "\u001b[?25l  Downloading https://files.pythonhosted.org/packages/e3/3a/dcb889af8de025f1fca9afd47f52726e24f4bc10aab3bc88a609cdd30250/arrow-1.1.0-py3-none-any.whl (58kB)\n",
            "\u001b[K     |████████████████████████████████| 61kB 4.6MB/s \n",
            "\u001b[?25hRequirement already satisfied: urllib3!=1.25.0,!=1.25.1,<1.26,>=1.21.1 in /usr/local/lib/python3.7/dist-packages (from requests>=2.23.0->cookiecutter) (1.24.3)\n",
            "Requirement already satisfied: idna<3,>=2.5 in /usr/local/lib/python3.7/dist-packages (from requests>=2.23.0->cookiecutter) (2.10)\n",
            "Requirement already satisfied: certifi>=2017.4.17 in /usr/local/lib/python3.7/dist-packages (from requests>=2.23.0->cookiecutter) (2020.12.5)\n",
            "Requirement already satisfied: python-dateutil>=2.7.0 in /usr/local/lib/python3.7/dist-packages (from arrow->jinja2-time>=0.2.0->cookiecutter) (2.8.1)\n",
            "Requirement already satisfied: typing-extensions; python_version < \"3.8\" in /usr/local/lib/python3.7/dist-packages (from arrow->jinja2-time>=0.2.0->cookiecutter) (3.7.4.3)\n",
            "Installing collected packages: poyo, binaryornot, arrow, jinja2-time, cookiecutter\n",
            "Successfully installed arrow-1.1.0 binaryornot-0.4.4 cookiecutter-1.7.3 jinja2-time-0.2.0 poyo-0.5.0\n"
          ],
          "name": "stdout"
        }
      ]
    },
    {
      "cell_type": "code",
      "metadata": {
        "colab": {
          "base_uri": "https://localhost:8080/"
        },
        "id": "gmJcEFxr3KIh",
        "outputId": "98636066-b4b7-4fdf-d992-0d47487d42b0"
      },
      "source": [
        "!cookiecutter https://github.com/drivendata/cookiecutter-data-science"
      ],
      "execution_count": 3,
      "outputs": [
        {
          "output_type": "stream",
          "text": [
            "project_name [project_name]: ml-Bcouncil\n",
            "repo_name [ml-bcouncil]: https://github.com/jcvasquezbetancur\n",
            "author_name [Your name (or your organization/company/team)]: Juan C. Vasquez\n",
            "description [A short description of the project.]: Analysis of purchase card transactions with ml-methods\n",
            "Select open_source_license:\n",
            "1 - MIT\n",
            "2 - BSD-3-Clause\n",
            "3 - No license file\n",
            "Choose from 1, 2, 3 [1]: 3\n",
            "s3_bucket [[OPTIONAL] your-bucket-for-syncing-data (do not include 's3://')]: \n",
            "aws_profile [default]: \n",
            "Select python_interpreter:\n",
            "1 - python3\n",
            "2 - python\n",
            "Choose from 1, 2 [1]: 1\n",
            "\n",
            "\n",
            "=============================================================================\n",
            "*** DEPRECATION WARNING ***\n",
            "\n",
            "Cookiecutter data science is moving to v2 soon, which will entail using\n",
            "the command `ccds ...` rather than `cookiecutter ...`. The cookiecutter command\n",
            "will continue to work, and this version of the template will still be available.\n",
            "To use the legacy template, you will need to explicitly use `-c v1` to select it.\n",
            "\n",
            "Please update any scripts/automation you have to append the `-c v1` option,\n",
            "which is available now.\n",
            "\n",
            "For example:\n",
            "    cookiecutter -c v1 https://github.com/drivendata/cookiecutter-data-science\n",
            "=============================================================================\n",
            "\n",
            "    \n"
          ],
          "name": "stdout"
        }
      ]
    }
  ]
}